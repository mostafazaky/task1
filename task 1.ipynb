{
 "cells": [
  {
   "cell_type": "code",
   "execution_count": 1,
   "id": "9de511e3",
   "metadata": {},
   "outputs": [],
   "source": [
    "class ShoppingCart:\n",
    "    def __init__(self):\n",
    "        self.items = {}\n",
    "\n",
    "    def add_item(self, item_name, quantity):\n",
    "        if item_name in self.items:\n",
    "            self.items[item_name] += quantity\n",
    "        else:\n",
    "            self.items[item_name] = quantity\n",
    "\n",
    "    def remove_item(self, item_name):\n",
    "        if item_name in self.items:\n",
    "            del self.items[item_name]\n",
    "\n",
    "    def calculate_total(self):\n",
    "        total = 0\n",
    "        for quantity in self.items.values():\n",
    "            total += quantity\n",
    "        return total\n",
    "    "
   ]
  },
  {
   "cell_type": "code",
   "execution_count": 2,
   "id": "747dce83",
   "metadata": {},
   "outputs": [
    {
     "name": "stdout",
     "output_type": "stream",
     "text": [
      "{'Apple': 5, 'Banana': 3}\n",
      "8\n",
      "{'Banana': 3}\n"
     ]
    }
   ],
   "source": [
    "cart = ShoppingCart()\n",
    "cart.add_item(\"Apple\", 5)\n",
    "cart.add_item(\"Banana\", 3)\n",
    "print(cart.items)\n",
    "print(cart.calculate_total()) \n",
    "cart.remove_item(\"Apple\")\n",
    "print(cart.items) \n"
   ]
  },
  {
   "cell_type": "code",
   "execution_count": null,
   "id": "dda2e471",
   "metadata": {},
   "outputs": [],
   "source": []
  }
 ],
 "metadata": {
  "kernelspec": {
   "display_name": "Python 3 (ipykernel)",
   "language": "python",
   "name": "python3"
  },
  "language_info": {
   "codemirror_mode": {
    "name": "ipython",
    "version": 3
   },
   "file_extension": ".py",
   "mimetype": "text/x-python",
   "name": "python",
   "nbconvert_exporter": "python",
   "pygments_lexer": "ipython3",
   "version": "3.11.4"
  }
 },
 "nbformat": 4,
 "nbformat_minor": 5
}
